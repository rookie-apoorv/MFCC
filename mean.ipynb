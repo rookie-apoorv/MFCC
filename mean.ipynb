{
 "cells": [
  {
   "cell_type": "code",
   "execution_count": 10,
   "metadata": {},
   "outputs": [],
   "source": [
    "import numpy as np\n",
    "import pandas as pd\n",
    "import glob"
   ]
  },
  {
   "cell_type": "code",
   "execution_count": 11,
   "metadata": {},
   "outputs": [],
   "source": [
    "\n",
    "## This function takes in the file path as input and returns a 20 length array with the mean of each\n",
    "## mfcc coefficient \n",
    "\n",
    "def compute_mean_mfcc_from_csv(file_path) :\n",
    "    mfcc_df = pd.read_csv(file_path,header = None)\n",
    "    mean_mfcc = mfcc_df.mean(axis = 1)\n",
    "    return mean_mfcc\n",
    "\n"
   ]
  },
  {
   "cell_type": "code",
   "execution_count": 17,
   "metadata": {},
   "outputs": [
    {
     "name": "stdout",
     "output_type": "stream",
     "text": [
      "Feature Vector Mean created\n"
     ]
    }
   ],
   "source": [
    "### Compiling the 20 means for each file in feature_file.csv\n",
    "\n",
    "all_means = []\n",
    "mfcc_files = glob.glob('*-MFCC.csv')\n",
    "\n",
    "for file in mfcc_files :\n",
    "    mean_mfcc = compute_mean_mfcc_from_csv(file)\n",
    "    all_means.append(mean_mfcc)\n",
    "\n",
    "mean_mfcc_df = pd.DataFrame(all_means)\n",
    "mean_mfcc_df.columns = [f'MFCC_{i+1}_mean' for i in range(mean_mfcc_df.shape[1])]\n",
    "mean_mfcc_df['file_name'] = mfcc_files\n",
    "mean_mfcc_df = mean_mfcc_df[['file_name'] + [f'MFCC_{i+1}_mean' for i in range(mean_mfcc_df.shape[1]-1)]]\n",
    "mean_mfcc_df.to_csv('feature_file.csv', index = False)\n",
    "print(\"Feature Vector Mean created\")"
   ]
  },
  {
   "cell_type": "code",
   "execution_count": null,
   "metadata": {},
   "outputs": [],
   "source": []
  }
 ],
 "metadata": {
  "kernelspec": {
   "display_name": "Python 3",
   "language": "python",
   "name": "python3"
  },
  "language_info": {
   "codemirror_mode": {
    "name": "ipython",
    "version": 3
   },
   "file_extension": ".py",
   "mimetype": "text/x-python",
   "name": "python",
   "nbconvert_exporter": "python",
   "pygments_lexer": "ipython3",
   "version": "3.11.8"
  }
 },
 "nbformat": 4,
 "nbformat_minor": 2
}
