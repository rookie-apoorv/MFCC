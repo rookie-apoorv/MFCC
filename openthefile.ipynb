{
 "cells": [
  {
   "cell_type": "code",
   "execution_count": 51,
   "metadata": {},
   "outputs": [
    {
     "name": "stdout",
     "output_type": "stream",
     "text": [
      "Conversion complete! Check '69.mp3' for the result.\n",
      "Conversion complete! Check '70.mp3' for the result.\n",
      "Conversion complete! Check '71.mp3' for the result.\n",
      "Conversion complete! Check '72.mp3' for the result.\n",
      "Conversion complete! Check '73.mp3' for the result.\n",
      "Conversion complete! Check '74.mp3' for the result.\n",
      "Conversion complete! Check '75.mp3' for the result.\n",
      "Conversion complete! Check '76.mp3' for the result.\n",
      "Conversion complete! Check '77.mp3' for the result.\n",
      "Conversion complete! Check '78.mp3' for the result.\n",
      "Conversion complete! Check '79.mp3' for the result.\n",
      "Conversion complete! Check '80.mp3' for the result.\n",
      "Conversion complete! Check '81.mp3' for the result.\n",
      "Conversion complete! Check '82.mp3' for the result.\n",
      "Conversion complete! Check '83.mp3' for the result.\n",
      "Conversion complete! Check '84.mp3' for the result.\n",
      "Conversion complete! Check '85.mp3' for the result.\n",
      "Conversion complete! Check '86.mp3' for the result.\n",
      "Conversion complete! Check '87.mp3' for the result.\n",
      "Conversion complete! Check '88.mp3' for the result.\n",
      "Conversion complete! Check '89.mp3' for the result.\n",
      "Conversion complete! Check '90.mp3' for the result.\n",
      "Conversion complete! Check '91.mp3' for the result.\n",
      "Conversion complete! Check '92.mp3' for the result.\n",
      "Conversion complete! Check '93.mp3' for the result.\n",
      "Conversion complete! Check '94.mp3' for the result.\n",
      "Conversion complete! Check '95.mp3' for the result.\n"
     ]
    },
    {
     "name": "stderr",
     "output_type": "stream",
     "text": [
      "Exception ignored in: <bound method IPythonKernel._clean_thread_parent_frames of <ipykernel.ipkernel.IPythonKernel object at 0x107ecc390>>\n",
      "Traceback (most recent call last):\n",
      "  File \"/Library/Frameworks/Python.framework/Versions/3.11/lib/python3.11/site-packages/ipykernel/ipkernel.py\", line 775, in _clean_thread_parent_frames\n",
      "    def _clean_thread_parent_frames(\n",
      "\n",
      "KeyboardInterrupt: \n"
     ]
    },
    {
     "ename": "KeyboardInterrupt",
     "evalue": "",
     "output_type": "error",
     "traceback": [
      "\u001b[0;31m---------------------------------------------------------------------------\u001b[0m",
      "\u001b[0;31mKeyboardInterrupt\u001b[0m                         Traceback (most recent call last)",
      "Cell \u001b[0;32mIn[51], line 33\u001b[0m\n\u001b[1;32m     30\u001b[0m linear_spec \u001b[38;5;241m=\u001b[39m librosa\u001b[38;5;241m.\u001b[39mfeature\u001b[38;5;241m.\u001b[39minverse\u001b[38;5;241m.\u001b[39mmel_to_stft(mel_spec, sr\u001b[38;5;241m=\u001b[39msr, n_fft\u001b[38;5;241m=\u001b[39mn_fft, power\u001b[38;5;241m=\u001b[39m\u001b[38;5;241m1.0\u001b[39m)\n\u001b[1;32m     32\u001b[0m \u001b[38;5;66;03m# Step 3: Reconstruct the audio signal using the Griffin-Lim algorithm\u001b[39;00m\n\u001b[0;32m---> 33\u001b[0m audio_signal \u001b[38;5;241m=\u001b[39m \u001b[43mlibrosa\u001b[49m\u001b[38;5;241;43m.\u001b[39;49m\u001b[43mgriffinlim\u001b[49m\u001b[43m(\u001b[49m\u001b[43mlinear_spec\u001b[49m\u001b[43m,\u001b[49m\u001b[43m \u001b[49m\u001b[43mhop_length\u001b[49m\u001b[38;5;241;43m=\u001b[39;49m\u001b[43mhop_length\u001b[49m\u001b[43m,\u001b[49m\u001b[43m \u001b[49m\u001b[43mn_iter\u001b[49m\u001b[38;5;241;43m=\u001b[39;49m\u001b[38;5;241;43m32\u001b[39;49m\u001b[43m)\u001b[49m\n\u001b[1;32m     35\u001b[0m \u001b[38;5;66;03m# Step 4: Save the audio as a WAV file first, then convert to MP3\u001b[39;00m\n\u001b[1;32m     36\u001b[0m wavfile\u001b[38;5;241m.\u001b[39mwrite(\u001b[38;5;124m'\u001b[39m\u001b[38;5;124mreconstructed_output.wav\u001b[39m\u001b[38;5;124m'\u001b[39m, sr, (audio_signal \u001b[38;5;241m*\u001b[39m \u001b[38;5;241m32767\u001b[39m)\u001b[38;5;241m.\u001b[39mastype(np\u001b[38;5;241m.\u001b[39mint16))\n",
      "File \u001b[0;32m/Library/Frameworks/Python.framework/Versions/3.11/lib/python3.11/site-packages/librosa/core/spectrum.py:2829\u001b[0m, in \u001b[0;36mgriffinlim\u001b[0;34m(S, n_iter, hop_length, win_length, n_fft, window, center, dtype, length, pad_mode, momentum, init, random_state)\u001b[0m\n\u001b[1;32m   2816\u001b[0m inverse \u001b[38;5;241m=\u001b[39m istft(\n\u001b[1;32m   2817\u001b[0m     angles,\n\u001b[1;32m   2818\u001b[0m     hop_length\u001b[38;5;241m=\u001b[39mhop_length,\n\u001b[0;32m   (...)\u001b[0m\n\u001b[1;32m   2825\u001b[0m     out\u001b[38;5;241m=\u001b[39minverse,\n\u001b[1;32m   2826\u001b[0m )\n\u001b[1;32m   2828\u001b[0m \u001b[38;5;66;03m# Rebuild the spectrogram\u001b[39;00m\n\u001b[0;32m-> 2829\u001b[0m rebuilt \u001b[38;5;241m=\u001b[39m \u001b[43mstft\u001b[49m\u001b[43m(\u001b[49m\n\u001b[1;32m   2830\u001b[0m \u001b[43m    \u001b[49m\u001b[43minverse\u001b[49m\u001b[43m,\u001b[49m\n\u001b[1;32m   2831\u001b[0m \u001b[43m    \u001b[49m\u001b[43mn_fft\u001b[49m\u001b[38;5;241;43m=\u001b[39;49m\u001b[43mn_fft\u001b[49m\u001b[43m,\u001b[49m\n\u001b[1;32m   2832\u001b[0m \u001b[43m    \u001b[49m\u001b[43mhop_length\u001b[49m\u001b[38;5;241;43m=\u001b[39;49m\u001b[43mhop_length\u001b[49m\u001b[43m,\u001b[49m\n\u001b[1;32m   2833\u001b[0m \u001b[43m    \u001b[49m\u001b[43mwin_length\u001b[49m\u001b[38;5;241;43m=\u001b[39;49m\u001b[43mwin_length\u001b[49m\u001b[43m,\u001b[49m\n\u001b[1;32m   2834\u001b[0m \u001b[43m    \u001b[49m\u001b[43mwindow\u001b[49m\u001b[38;5;241;43m=\u001b[39;49m\u001b[43mwindow\u001b[49m\u001b[43m,\u001b[49m\n\u001b[1;32m   2835\u001b[0m \u001b[43m    \u001b[49m\u001b[43mcenter\u001b[49m\u001b[38;5;241;43m=\u001b[39;49m\u001b[43mcenter\u001b[49m\u001b[43m,\u001b[49m\n\u001b[1;32m   2836\u001b[0m \u001b[43m    \u001b[49m\u001b[43mpad_mode\u001b[49m\u001b[38;5;241;43m=\u001b[39;49m\u001b[43mpad_mode\u001b[49m\u001b[43m,\u001b[49m\n\u001b[1;32m   2837\u001b[0m \u001b[43m    \u001b[49m\u001b[43mout\u001b[49m\u001b[38;5;241;43m=\u001b[39;49m\u001b[43mrebuilt\u001b[49m\u001b[43m,\u001b[49m\n\u001b[1;32m   2838\u001b[0m \u001b[43m\u001b[49m\u001b[43m)\u001b[49m\n\u001b[1;32m   2840\u001b[0m \u001b[38;5;66;03m# Update our phase estimates\u001b[39;00m\n\u001b[1;32m   2841\u001b[0m angles[:] \u001b[38;5;241m=\u001b[39m rebuilt\n",
      "File \u001b[0;32m/Library/Frameworks/Python.framework/Versions/3.11/lib/python3.11/site-packages/librosa/core/spectrum.py:387\u001b[0m, in \u001b[0;36mstft\u001b[0;34m(y, n_fft, hop_length, win_length, window, center, dtype, pad_mode, out)\u001b[0m\n\u001b[1;32m    384\u001b[0m \u001b[38;5;28;01mfor\u001b[39;00m bl_s \u001b[38;5;129;01min\u001b[39;00m \u001b[38;5;28mrange\u001b[39m(\u001b[38;5;241m0\u001b[39m, y_frames\u001b[38;5;241m.\u001b[39mshape[\u001b[38;5;241m-\u001b[39m\u001b[38;5;241m1\u001b[39m], n_columns):\n\u001b[1;32m    385\u001b[0m     bl_t \u001b[38;5;241m=\u001b[39m \u001b[38;5;28mmin\u001b[39m(bl_s \u001b[38;5;241m+\u001b[39m n_columns, y_frames\u001b[38;5;241m.\u001b[39mshape[\u001b[38;5;241m-\u001b[39m\u001b[38;5;241m1\u001b[39m])\n\u001b[0;32m--> 387\u001b[0m     stft_matrix[\u001b[38;5;241m.\u001b[39m\u001b[38;5;241m.\u001b[39m\u001b[38;5;241m.\u001b[39m, bl_s \u001b[38;5;241m+\u001b[39m off_start : bl_t \u001b[38;5;241m+\u001b[39m off_start] \u001b[38;5;241m=\u001b[39m fft\u001b[38;5;241m.\u001b[39mrfft(\n\u001b[1;32m    388\u001b[0m         fft_window \u001b[38;5;241m*\u001b[39m y_frames[\u001b[38;5;241m.\u001b[39m\u001b[38;5;241m.\u001b[39m\u001b[38;5;241m.\u001b[39m, bl_s:bl_t], axis\u001b[38;5;241m=\u001b[39m\u001b[38;5;241m-\u001b[39m\u001b[38;5;241m2\u001b[39m\n\u001b[1;32m    389\u001b[0m     )\n\u001b[1;32m    390\u001b[0m \u001b[38;5;28;01mreturn\u001b[39;00m stft_matrix\n",
      "\u001b[0;31mKeyboardInterrupt\u001b[0m: "
     ]
    }
   ],
   "source": [
    "import numpy as np\n",
    "import pandas as pd\n",
    "import librosa\n",
    "import librosa.display\n",
    "from scipy.io import wavfile\n",
    "from pydub import AudioSegment\n",
    "\n",
    "# Parameters\n",
    "sr = 44100              # Sampling rate\n",
    "n_mfcc = 20             # Number of MFCC coefficients\n",
    "n_mels = 128            # Number of Mel bands to approximate Mel spectrogram\n",
    "n_fft = 2048            # FFT window size\n",
    "hop_length = 512        # Hop length\n",
    "\n",
    "for i in range(96, 117): \n",
    "    # Load MFCC data from CSV file\n",
    "    if i > 9:\n",
    "        filenum = str(i)\n",
    "    else:\n",
    "        filenum = \"0\" + str(i)\n",
    "    \n",
    "    file_path = f'MFCC-files-v2/{filenum}-MFCC.csv'  # Adjust this to the path of your file\n",
    "    df_mfcc = pd.read_csv(file_path, header=None)\n",
    "\n",
    "    # Step 1: Convert MFCCs to a Mel spectrogram approximation\n",
    "    mfccs = df_mfcc.to_numpy()\n",
    "    mel_spec = librosa.feature.inverse.mfcc_to_mel(mfccs, n_mels=n_mels)\n",
    "\n",
    "    # Step 2: Convert Mel spectrogram to linear spectrogram (STFT)\n",
    "    linear_spec = librosa.feature.inverse.mel_to_stft(mel_spec, sr=sr, n_fft=n_fft, power=1.0)\n",
    "\n",
    "    # Step 3: Reconstruct the audio signal using the Griffin-Lim algorithm\n",
    "    audio_signal = librosa.griffinlim(linear_spec, hop_length=hop_length, n_iter=32)\n",
    "\n",
    "    # Step 4: Save the audio as a WAV file first, then convert to MP3\n",
    "    wavfile.write('reconstructed_output.wav', sr, (audio_signal * 32767).astype(np.int16))\n",
    "\n",
    "    # Convert WAV to MP3\n",
    "    sound = AudioSegment.from_wav('reconstructed_output.wav')\n",
    "    sound.export(f'MP3s/{filenum}.mp3', format=\"mp3\")\n",
    "\n",
    "    print(f\"Conversion complete! Check '{filenum}.mp3' for the result.\")\n"
   ]
  },
  {
   "cell_type": "code",
   "execution_count": null,
   "metadata": {},
   "outputs": [],
   "source": []
  }
 ],
 "metadata": {
  "kernelspec": {
   "display_name": "Python 3",
   "language": "python",
   "name": "python3"
  },
  "language_info": {
   "codemirror_mode": {
    "name": "ipython",
    "version": 3
   },
   "file_extension": ".py",
   "mimetype": "text/x-python",
   "name": "python",
   "nbconvert_exporter": "python",
   "pygments_lexer": "ipython3",
   "version": "3.11.4"
  }
 },
 "nbformat": 4,
 "nbformat_minor": 2
}
